{
 "cells": [
  {
   "cell_type": "code",
   "execution_count": 5,
   "metadata": {},
   "outputs": [],
   "source": [
    "from login import login"
   ]
  },
  {
   "cell_type": "code",
   "execution_count": 6,
   "metadata": {},
   "outputs": [],
   "source": [
    "import pandas as pd\n",
    "import json\n",
    "import api"
   ]
  },
  {
   "cell_type": "code",
   "execution_count": 7,
   "metadata": {
    "scrolled": true
   },
   "outputs": [],
   "source": [
    "rh = login()"
   ]
  },
  {
   "cell_type": "code",
   "execution_count": null,
   "metadata": {},
   "outputs": [],
   "source": []
  },
  {
   "cell_type": "code",
   "execution_count": 8,
   "metadata": {},
   "outputs": [],
   "source": [
    "def positions_to_df():\n",
    "    positions = rh.positions()['results']\n",
    "    df = pd.DataFrame.from_records(positions[])\n",
    "    df['instrument'] = df['instrument'].apply(lambda url: api.get_symbol_from_instrument_url(rh, url))\n",
    "    df['current_price'] = df['instrument'].apply(lambda ticker: api.ticker_to_current_price(ticker, rh))\n",
    "    df = df.drop(['url',\n",
    "             'account', \n",
    "             'account_number', \n",
    "             'intraday_average_buy_price', \n",
    "             'intraday_quantity', \n",
    "             'shares_held_for_buys', \n",
    "             'shares_held_for_sells', \n",
    "             'shares_held_for_stock_grants',\n",
    "             'shares_held_for_options_collateral',\n",
    "             'shares_held_for_options_events',\n",
    "             'shares_pending_from_options_events'\n",
    "            ], axis = 1)\n",
    "    \n",
    "    \n",
    "    return df"
   ]
  },
  {
   "cell_type": "code",
   "execution_count": 9,
   "metadata": {},
   "outputs": [],
   "source": [
    "out = positions_to_df()"
   ]
  },
  {
   "cell_type": "code",
   "execution_count": 10,
   "metadata": {},
   "outputs": [
    {
     "data": {
      "text/html": [
       "<div>\n",
       "<style scoped>\n",
       "    .dataframe tbody tr th:only-of-type {\n",
       "        vertical-align: middle;\n",
       "    }\n",
       "\n",
       "    .dataframe tbody tr th {\n",
       "        vertical-align: top;\n",
       "    }\n",
       "\n",
       "    .dataframe thead th {\n",
       "        text-align: right;\n",
       "    }\n",
       "</style>\n",
       "<table border=\"1\" class=\"dataframe\">\n",
       "  <thead>\n",
       "    <tr style=\"text-align: right;\">\n",
       "      <th></th>\n",
       "      <th>instrument</th>\n",
       "      <th>average_buy_price</th>\n",
       "      <th>pending_average_buy_price</th>\n",
       "      <th>quantity</th>\n",
       "      <th>updated_at</th>\n",
       "      <th>created_at</th>\n",
       "      <th>current_price</th>\n",
       "    </tr>\n",
       "  </thead>\n",
       "  <tbody>\n",
       "    <tr>\n",
       "      <th>0</th>\n",
       "      <td>ILMN</td>\n",
       "      <td>278.8450</td>\n",
       "      <td>278.8450</td>\n",
       "      <td>4.00000000</td>\n",
       "      <td>2020-03-03T16:41:34.604614Z</td>\n",
       "      <td>2020-03-03T16:41:33.818202Z</td>\n",
       "      <td>320.310000</td>\n",
       "    </tr>\n",
       "  </tbody>\n",
       "</table>\n",
       "</div>"
      ],
      "text/plain": [
       "  instrument average_buy_price pending_average_buy_price    quantity  \\\n",
       "0       ILMN          278.8450                  278.8450  4.00000000   \n",
       "\n",
       "                    updated_at                   created_at current_price  \n",
       "0  2020-03-03T16:41:34.604614Z  2020-03-03T16:41:33.818202Z    320.310000  "
      ]
     },
     "execution_count": 10,
     "metadata": {},
     "output_type": "execute_result"
    }
   ],
   "source": [
    "out"
   ]
  },
  {
   "cell_type": "code",
   "execution_count": null,
   "metadata": {},
   "outputs": [],
   "source": []
  }
 ],
 "metadata": {
  "kernelspec": {
   "display_name": "pyrh_venv",
   "language": "python",
   "name": "pyrh_venv"
  },
  "language_info": {
   "codemirror_mode": {
    "name": "ipython",
    "version": 3
   },
   "file_extension": ".py",
   "mimetype": "text/x-python",
   "name": "python",
   "nbconvert_exporter": "python",
   "pygments_lexer": "ipython3",
   "version": "3.7.6"
  }
 },
 "nbformat": 4,
 "nbformat_minor": 2
}
